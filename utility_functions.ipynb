{
  "nbformat": 4,
  "nbformat_minor": 0,
  "metadata": {
    "colab": {
      "name": "utility-functions.ipynb",
      "provenance": [],
      "authorship_tag": "ABX9TyP8jntarjHgotEvNGczguZD",
      "include_colab_link": true
    },
    "kernelspec": {
      "name": "python3",
      "display_name": "Python 3"
    },
    "language_info": {
      "name": "python"
    }
  },
  "cells": [
    {
      "cell_type": "markdown",
      "metadata": {
        "id": "view-in-github",
        "colab_type": "text"
      },
      "source": [
        "<a href=\"https://colab.research.google.com/github/walterverwer/Utility-Functions/blob/main/utility_functions.ipynb\" target=\"_parent\"><img src=\"https://colab.research.google.com/assets/colab-badge.svg\" alt=\"Open In Colab\"/></a>"
      ]
    },
    {
      "cell_type": "markdown",
      "metadata": {
        "id": "BOD2FXtI-eY6"
      },
      "source": [
        "#General utility functions"
      ]
    },
    {
      "cell_type": "code",
      "metadata": {
        "id": "MWS1LLOM9o_Q"
      },
      "source": [
        "import os\n",
        "from subprocess import getoutput\n",
        "\n",
        "# Clone the Utility-Functions repository for integration, use subprocess:\n",
        "getoutput('git clone -l -s git://github.com/walterverwer/Utility-Functions Utility-Functions')\n",
        "os.chdir('Utility-Functions')"
      ],
      "execution_count": 6,
      "outputs": []
    },
    {
      "cell_type": "code",
      "metadata": {
        "id": "O7KPyDLMOEmU"
      },
      "source": [
        "def r_import(modules):\n",
        "  \"\"\"\n",
        "  Import R packages. If the desired packages are not installed it will\n",
        "  automatically install them. Note that this function will act as a one time\n",
        "  delay in running time, if modules need to be installed.\n",
        "\n",
        "  Args:\n",
        "      modules: list of the desired packages. The packages to be included should\n",
        "      be as a string. E.g. modules = ['stargazer', 'tidyverse'].\n",
        "\n",
        "  Returns:\n",
        "      None\n",
        "  \"\"\"\n",
        "  # Import rpy2's package module\n",
        "  import rpy2.robjects.packages as rpackages\n",
        "\n",
        "  # import R's utility package\n",
        "  utils = rpackages.importr('utils')\n",
        "\n",
        "  # select a mirror for R packages\n",
        "  utils.chooseCRANmirror(ind=1) # select the first mirror in the list\n",
        "\n",
        "  # R package names\n",
        "  packnames = tuple(modules)\n",
        "\n",
        "  # R vector of strings\n",
        "  from rpy2.robjects.vectors import StrVector\n",
        "\n",
        "  # Selectively install what needs to be install.\n",
        "  # We are fancy, just because we can.\n",
        "  names_to_install = [x for x in packnames if not rpackages.isinstalled(x)]\n",
        "  if len(names_to_install) > 0:\n",
        "      utils.install_packages(StrVector(names_to_install))\n",
        "  \n",
        "  return"
      ],
      "execution_count": 3,
      "outputs": []
    }
  ]
}