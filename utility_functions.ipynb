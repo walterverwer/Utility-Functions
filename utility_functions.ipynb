{
  "nbformat": 4,
  "nbformat_minor": 0,
  "metadata": {
    "colab": {
      "name": "utility-functions.ipynb",
      "provenance": [],
      "authorship_tag": "ABX9TyOiQMYJOHO0UCU0KEYlTWq5",
      "include_colab_link": true
    },
    "kernelspec": {
      "name": "python3",
      "display_name": "Python 3"
    },
    "language_info": {
      "name": "python"
    }
  },
  "cells": [
    {
      "cell_type": "markdown",
      "metadata": {
        "id": "view-in-github",
        "colab_type": "text"
      },
      "source": [
        "<a href=\"https://colab.research.google.com/github/walterverwer/Utility-Functions/blob/main/utility_functions.ipynb\" target=\"_parent\"><img src=\"https://colab.research.google.com/assets/colab-badge.svg\" alt=\"Open In Colab\"/></a>"
      ]
    },
    {
      "cell_type": "markdown",
      "metadata": {
        "id": "BOD2FXtI-eY6"
      },
      "source": [
        "#General utility functions"
      ]
    },
    {
      "cell_type": "code",
      "metadata": {
        "id": "MWS1LLOM9o_Q"
      },
      "source": [
        "%%capture\n",
        "\n",
        "# Clone the repo for ease of integration.\n",
        "!git clone -l -s git://github.com/walterverwer/Utility-Functions Utility-Functions\n",
        "%cd Utility-Functions"
      ],
      "execution_count": 5,
      "outputs": []
    }
  ]
}