{
  "nbformat": 4,
  "nbformat_minor": 0,
  "metadata": {
    "colab": {
      "name": "walpy.ipynb",
      "provenance": [],
      "collapsed_sections": [],
      "mount_file_id": "12GceB64bo-uwVSQEX441fTlpK3D4fJOc",
      "authorship_tag": "ABX9TyPl0hgq/vn90Q1EbAPCi2Iz",
      "include_colab_link": true
    },
    "kernelspec": {
      "name": "python3",
      "display_name": "Python 3"
    },
    "language_info": {
      "name": "python"
    }
  },
  "cells": [
    {
      "cell_type": "markdown",
      "metadata": {
        "id": "view-in-github",
        "colab_type": "text"
      },
      "source": [
        "<a href=\"https://colab.research.google.com/github/walterverwer/walpy/blob/main/walpy.ipynb\" target=\"_parent\"><img src=\"https://colab.research.google.com/assets/colab-badge.svg\" alt=\"Open In Colab\"/></a>"
      ]
    },
    {
      "cell_type": "markdown",
      "metadata": {
        "id": "BOD2FXtI-eY6"
      },
      "source": [
        "#Walter's Python - walpy\n",
        "Welcome! In this notebook I have writen general (short) functions for every day use, which are written to a separate python script. For this reason every function can be imported from the repo separately. There is also a general file containing all functions. The primary usage would be in data science work, however the use cases could be more comprehensive.\n"
      ]
    },
    {
      "cell_type": "code",
      "metadata": {
        "id": "MWS1LLOM9o_Q"
      },
      "source": [
        "import os\n",
        "from subprocess import getoutput\n",
        " \n",
        "# Clone the Utility-Functions repository for integration, use subprocess:\n",
        "getoutput('git clone -l -s git://github.com/walterverwer/walpy walpy')\n",
        "os.chdir('walpy')"
      ],
      "execution_count": null,
      "outputs": []
    },
    {
      "cell_type": "markdown",
      "metadata": {
        "id": "pg0YqKuVar5b"
      },
      "source": [
        "## Write and run (cell magic)\n",
        "This function is a modification of the %%writefiles cell magic command. The original function only writes the cell to a (new) python script, while this function allows one to write and run the cell. This is useful when working in a notebook for developing functions, like this notebook!"
      ]
    },
    {
      "cell_type": "code",
      "metadata": {
        "id": "LxrK0J6maWox"
      },
      "source": [
        "from IPython.core.magic import register_cell_magic\n",
        "\n",
        "@register_cell_magic\n",
        "def write_and_run(line, cell):\n",
        "    \"\"\"\n",
        "    Write and run the cell. Use as follows: \n",
        "    \n",
        "    %%write_and_run script.py to overwrite existing scripts.\n",
        "    \n",
        "    %%write_and_run -a script.py to append to the existing script.\n",
        "    \n",
        "    For both cases, if the script does not exist, then a new one is \n",
        "    created automatically.\n",
        "\n",
        "    Args:\n",
        "        line: ignore. See above.\n",
        "\n",
        "        cell: ignore. See above.\n",
        "\n",
        "    Returns:\n",
        "        None\n",
        "    \"\"\"\n",
        "    argz = line.split()\n",
        "    file = argz[-1]\n",
        "    mode = 'w'\n",
        "    if len(argz) == 2 and argz[0] == '-a':\n",
        "        mode = 'a'\n",
        "    with open(file, mode) as f:\n",
        "        f.write(cell)\n",
        "    get_ipython().run_cell(cell)\n",
        "\n",
        "    return"
      ],
      "execution_count": null,
      "outputs": []
    },
    {
      "cell_type": "markdown",
      "metadata": {
        "id": "zTNYJmbHcc9R"
      },
      "source": [
        "##R to Python installer and importer\n",
        "When importing R packages while working in a Python environment can lead to some unnecessary code. In order to provide a as clean and close to importing Python packages, I have written this function that allows one to import a list of R packages. The package is flexible enough to also allow for manual imports. If one wants to manually import an R package, simply specify the package(s) to be installed manually and map the example below the following code cell to the individual's use case."
      ]
    },
    {
      "cell_type": "code",
      "metadata": {
        "id": "O7KPyDLMOEmU"
      },
      "source": [
        "%%write_and_run r_importer.py\n",
        "def r_importer(modules, install_only=None, log=False):\n",
        "  \"\"\"\n",
        "  Import and install R packages. If the desired packages are not installed it will\n",
        "  automatically install them. Note that this function will act as a one time\n",
        "  delay in running time, if modules need to be installed. Import R packages\n",
        "  manually as e.g. <stargazer =  rpy2.robjects.packages.importr('stargazer')>.\n",
        "  So, the same name used for installing, should be used to import the functions.\n",
        "  Important to note, this function imports the following modules from rpy2:\n",
        "  \"rpy2.robjects.packages\" and \"rpy2.robjects.vectors\".\n",
        " \n",
        "  Args:\n",
        "      modules: list of the desired packages. The packages to be included should\n",
        "      be as a string. E.g. modules = ['stargazer', 'tidyverse'].\n",
        "\n",
        "      install_only: default=None. list or string of packages to be installed \n",
        "      only. Note, combinations are possible.\n",
        "\n",
        "      log: default=False. Prints a log message if true, of the packages are\n",
        "      (succesfully) installed.\n",
        " \n",
        "  Returns:\n",
        "      None\n",
        "  \"\"\"\n",
        "  # Import rpy2's package module:\n",
        "  import rpy2.robjects.packages as rpackages\n",
        " \n",
        "  # import R's utility package:\n",
        "  utils = rpackages.importr('utils')\n",
        " \n",
        "  # R package names:\n",
        "  packnames = tuple(modules)\n",
        " \n",
        "  # R vector of strings:\n",
        "  from rpy2.robjects.vectors import StrVector\n",
        " \n",
        "  # Selectively install what needs to be install. Use CRAN cloud server:\n",
        "  names_to_install = [x for x in packnames if not rpackages.isinstalled(x)]\n",
        "  if len(names_to_install) > 0 and log == True:\n",
        "    utils.install_packages(StrVector(names_to_install),\n",
        "                            repos='https://cloud.r-project.org/')\n",
        "  else:\n",
        "    utils.install_packages(StrVector(names_to_install),\n",
        "                          repos='https://cloud.r-project.org/');\n",
        "  \n",
        "  # Make modules non-overlapping with install_only:\n",
        "  modules = set(modules) - set(install_only)\n",
        "\n",
        "  # Import modules to be automatically imported\n",
        "  for module in modules:\n",
        "    rpackages.importr(module)\n",
        "  \n",
        "  # Print log message if true:\n",
        "  if log == True:\n",
        "    print('Successfully imported and/ or installed:', [i for i in modules])\n",
        "\n",
        "  return"
      ],
      "execution_count": null,
      "outputs": []
    },
    {
      "cell_type": "markdown",
      "metadata": {
        "id": "kYlik3T4ev5P"
      },
      "source": [
        "### Example\n",
        "\n",
        "In order to manually import *sandwich* and *stargazer*, and automatically import *dplyr* and *tidyverse* run the following code. \n",
        "\n",
        "**Important**: in order to prevent cluttering in this document I have already installed the packages! Normally if log=True and one has not installed the packages, you will see the corresponding installation output of the rpy2 package.\n"
      ]
    },
    {
      "cell_type": "code",
      "metadata": {
        "colab": {
          "base_uri": "https://localhost:8080/"
        },
        "id": "moazb7I8gLzz",
        "outputId": "f43e49e5-f019-4fe0-b1b1-007b3de00e9c"
      },
      "source": [
        "# First import the following rpy2 module for manual importing:\n",
        "import rpy2.robjects.packages\n",
        "\n",
        "# Modules to be installed:\n",
        "modules = ['dplyr', 'tidyverse'] # This is correct!\n",
        "modules = ['dplyr', 'tidyverse','sandwich', 'stargazer'] # This is also correct!\n",
        "install_only = ['sandwich', 'stargazer'] # What to install only\n",
        "\n",
        "# Run the R importer function\n",
        "r_importer(modules, install_only, log=True) # log=True for demonstration\n",
        "\n",
        "# Assign packages of the manual installs to the Python environment:\n",
        "sandwich = rpy2.robjects.packages.importr('sandwich') \n",
        "stargazer =  rpy2.robjects.packages.importr('stargazer')"
      ],
      "execution_count": null,
      "outputs": [
        {
          "output_type": "stream",
          "text": [
            "Successfully imported and/ or installed: ['tidyverse', 'dplyr']\n"
          ],
          "name": "stdout"
        }
      ]
    }
  ]
}